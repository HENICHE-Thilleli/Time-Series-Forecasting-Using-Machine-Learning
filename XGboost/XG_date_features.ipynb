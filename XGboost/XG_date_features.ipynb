{
  "nbformat": 4,
  "nbformat_minor": 0,
  "metadata": {
    "colab": {
      "provenance": [],
      "authorship_tag": "ABX9TyMCd9RhFTi06V0fkKT/zdLz",
      "include_colab_link": true
    },
    "kernelspec": {
      "name": "python3",
      "display_name": "Python 3"
    },
    "language_info": {
      "name": "python"
    }
  },
  "cells": [
    {
      "cell_type": "markdown",
      "metadata": {
        "id": "view-in-github",
        "colab_type": "text"
      },
      "source": [
        "<a href=\"https://colab.research.google.com/github/HENICHE-Thilleli/Time-Series-Forecasting-Using-Machine-Learning/blob/main/XGboost/XG_date_features.ipynb\" target=\"_parent\"><img src=\"https://colab.research.google.com/assets/colab-badge.svg\" alt=\"Open In Colab\"/></a>"
      ]
    },
    {
      "cell_type": "code",
      "source": [
        "\n",
        "import pandas as pd\n",
        "import numpy as np\n",
        "import matplotlib.pyplot as plt\n",
        "import xgboost as xgb\n",
        "from sklearn.model_selection import train_test_split\n",
        "from sklearn.metrics import mean_squared_error, mean_absolute_error, r2_score"
      ],
      "metadata": {
        "id": "C4d214x4kFyg"
      },
      "execution_count": null,
      "outputs": []
    },
    {
      "cell_type": "code",
      "source": [
        "from google.colab import drive\n",
        "drive.mount('/content/drive')"
      ],
      "metadata": {
        "id": "89rP75ngkTXX",
        "colab": {
          "base_uri": "https://localhost:8080/"
        },
        "outputId": "04cc2a3b-95fd-4204-c47a-ee65ad25e01e"
      },
      "execution_count": null,
      "outputs": [
        {
          "output_type": "stream",
          "name": "stdout",
          "text": [
            "Mounted at /content/drive\n"
          ]
        }
      ]
    },
    {
      "cell_type": "code",
      "source": [
        "df = pd.read_csv('/content/drive/MyDrive/external.csv', parse_dates=True, sep=\";\")\n",
        "df['date'] = pd.to_datetime(df['date']) # Convertir la colonne 'date' en objets datetime\n",
        "df1 = df[['date', 'PriceUSD']]\n",
        "df1 = df1.set_index('date')\n",
        "print(df1)"
      ],
      "metadata": {
        "id": "vcQ-vbOXkbNZ",
        "colab": {
          "base_uri": "https://localhost:8080/"
        },
        "outputId": "ad179fdd-f39d-4773-ba0d-ffd8ab461fc6"
      },
      "execution_count": null,
      "outputs": [
        {
          "output_type": "stream",
          "name": "stdout",
          "text": [
            "               PriceUSD\n",
            "date                   \n",
            "2015-01-02   315.942732\n",
            "2015-01-03   285.647310\n",
            "2015-01-04   263.334575\n",
            "2015-01-05   275.003852\n",
            "2015-01-06   287.549521\n",
            "...                 ...\n",
            "2017-06-26  2426.365051\n",
            "2017-06-27  2530.345536\n",
            "2017-06-28  2562.792264\n",
            "2017-06-29  2540.443032\n",
            "2017-06-30  2452.712064\n",
            "\n",
            "[911 rows x 1 columns]\n"
          ]
        }
      ]
    },
    {
      "cell_type": "code",
      "source": [
        "def create_features(df1):\n",
        "    \"\"\"\n",
        "    Create time series features based on time series index.\n",
        "    \"\"\"\n",
        "    df1 = df1.copy()\n",
        "    df1['dayofweek'] = df1.index.dayofweek\n",
        "    df1['quarter'] = df1.index.quarter\n",
        "    df1['month'] = df1.index.month\n",
        "    df1['year'] = df1.index.year\n",
        "    df1['dayofyear'] = df1.index.dayofyear\n",
        "    df1['dayofmonth'] = df1.index.day\n",
        "    df1['weekofyear'] = df1.index.isocalendar().week\n",
        "    return df1\n",
        "\n",
        "df1 = create_features(df1)\n",
        "print(df1)"
      ],
      "metadata": {
        "id": "IQDIFnsjkggz",
        "colab": {
          "base_uri": "https://localhost:8080/"
        },
        "outputId": "3b9509a5-db13-46e9-a54c-29cc702e2ff4"
      },
      "execution_count": null,
      "outputs": [
        {
          "output_type": "stream",
          "name": "stdout",
          "text": [
            "               PriceUSD  dayofweek  quarter  month  year  dayofyear  \\\n",
            "date                                                                  \n",
            "2015-01-02   315.942732          4        1      1  2015          2   \n",
            "2015-01-03   285.647310          5        1      1  2015          3   \n",
            "2015-01-04   263.334575          6        1      1  2015          4   \n",
            "2015-01-05   275.003852          0        1      1  2015          5   \n",
            "2015-01-06   287.549521          1        1      1  2015          6   \n",
            "...                 ...        ...      ...    ...   ...        ...   \n",
            "2017-06-26  2426.365051          0        2      6  2017        177   \n",
            "2017-06-27  2530.345536          1        2      6  2017        178   \n",
            "2017-06-28  2562.792264          2        2      6  2017        179   \n",
            "2017-06-29  2540.443032          3        2      6  2017        180   \n",
            "2017-06-30  2452.712064          4        2      6  2017        181   \n",
            "\n",
            "            dayofmonth  weekofyear  \n",
            "date                                \n",
            "2015-01-02           2           1  \n",
            "2015-01-03           3           1  \n",
            "2015-01-04           4           1  \n",
            "2015-01-05           5           2  \n",
            "2015-01-06           6           2  \n",
            "...                ...         ...  \n",
            "2017-06-26          26          26  \n",
            "2017-06-27          27          26  \n",
            "2017-06-28          28          26  \n",
            "2017-06-29          29          26  \n",
            "2017-06-30          30          26  \n",
            "\n",
            "[911 rows x 8 columns]\n"
          ]
        }
      ]
    },
    {
      "cell_type": "code",
      "source": [
        "FEATURES = ['year', 'dayofweek', 'dayofmonth']\n",
        "TARGET = ['PriceUSD']\n",
        "\n",
        "train = df1[:int(len(df1)*0.70)]\n",
        "test = df1[int(len(df1)*0.70):]\n",
        "\n",
        "X_train = train[FEATURES]\n",
        "y_train = train[TARGET]\n",
        "\n",
        "X_test = test[FEATURES]\n",
        "y_test = test[TARGET]"
      ],
      "metadata": {
        "id": "9QTLhxVkkneI"
      },
      "execution_count": null,
      "outputs": []
    },
    {
      "cell_type": "code",
      "source": [
        "# Entraînement et prédiction avec XGBoost\n",
        "reg = xgb.XGBRegressor(booster='gbtree',\n",
        "                       n_estimators=25,\n",
        "                       objective='reg:squarederror',\n",
        "                       max_depth=19,\n",
        "                       learning_rate=1)\n",
        "reg.fit(X_train, y_train,\n",
        "        eval_set=[(X_train, y_train), (X_test, y_test)],\n",
        "        verbose=100)\n",
        "y_pred = reg.predict(X_test)"
      ],
      "metadata": {
        "id": "1iMGcc6DlILh"
      },
      "execution_count": null,
      "outputs": []
    },
    {
      "cell_type": "code",
      "source": [
        "# Calcul des métriques d'évaluation\n",
        "mse = mean_squared_error(y_test, y_pred)\n",
        "r2 = r2_score(y_test, y_pred)\n",
        "bias = np.mean(y_pred - y_test.values.reshape(-1, 1))\n",
        "\n",
        "print(f\"Biais : {bias:.2f}\")\n",
        "print(\"MSE: \", mse)\n",
        "print(f\"R²: {r2:.4f}\")"
      ],
      "metadata": {
        "id": "U1Gm7tQ3mZPL"
      },
      "execution_count": null,
      "outputs": []
    },
    {
      "cell_type": "code",
      "source": [
        "dfplot=df[['date', 'PriceUSD']]\n",
        "dfplot = dfplot.set_index('date')\n",
        "dfplot.index = pd.to_datetime(dfplot.index)\n",
        "train = dfplot[:int(len(df1)*0.70)]\n",
        "test = dfplot[int(len(df1)*0.70):]\n",
        "print(len(df1))\n",
        "print(len(test))\n",
        "print(len(train))\n",
        "fig, ax = plt.subplots(figsize=(15, 5))\n",
        "train.plot(ax=ax, label='Training Set', title='Data Train/Test Split')\n",
        "test.plot(ax=ax, label='Test Set')\n",
        "ax.axvline(df1.iloc[int(len(df1)*0.60),0], color='black', ls='--')\n",
        "ax.legend(['Training Set', 'Test Set'])\n",
        "plt.show()"
      ],
      "metadata": {
        "id": "eJxNCLl3mdYs"
      },
      "execution_count": null,
      "outputs": []
    },
    {
      "cell_type": "code",
      "source": [
        "# Tracer le graphique des prédictions et des données réelles\n",
        "test = df[int(len(df1)*0.70):]\n",
        "dfplot = test[['date', 'PriceUSD']]\n",
        "dfplot['prediction'] = y_pred\n",
        "dfplot = dfplot.set_index('date')\n",
        "\n",
        "fig, ax = plt.subplots(figsize=(15, 5))\n",
        "dfplot.plot(ax=ax, title='Predictions/Real data')\n",
        "ax.legend(['Real data', 'Predictions'])\n",
        "#plt.savefig('/content/drive/MyDrive/xgdatedate.png')\n",
        "dfplot.to_csv('/content/drive/MyDrive/XGBoost.csv')\n",
        "plt.show()"
      ],
      "metadata": {
        "id": "5_dAL8fPmwd_"
      },
      "execution_count": null,
      "outputs": []
    }
  ]
}