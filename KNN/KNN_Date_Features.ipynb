{
  "cells": [
    {
      "cell_type": "markdown",
      "metadata": {
        "id": "view-in-github",
        "colab_type": "text"
      },
      "source": [
        "<a href=\"https://colab.research.google.com/github/HENICHE-Thilleli/Time-Series-Forecasting-Using-Machine-Learning/blob/main/KNN/KNN_Date_Features.ipynb\" target=\"_parent\"><img src=\"https://colab.research.google.com/assets/colab-badge.svg\" alt=\"Open In Colab\"/></a>"
      ]
    },
    {
      "cell_type": "code",
      "execution_count": null,
      "metadata": {
        "id": "HeRS1mamg1l-"
      },
      "outputs": [],
      "source": [
        "import pandas as pd\n",
        "import numpy as np\n",
        "import matplotlib.pyplot as plt\n",
        "from sklearn.neighbors import KNeighborsRegressor\n",
        "from sklearn.model_selection import train_test_split\n",
        "from sklearn.metrics import mean_squared_error, mean_absolute_error, r2_score\n",
        "from google.colab import drive\n",
        "drive.mount('/content/drive')"
      ]
    },
    {
      "cell_type": "code",
      "execution_count": null,
      "metadata": {
        "id": "s6tsoBY0g73r"
      },
      "outputs": [],
      "source": [
        "# Charger les données\n",
        "df = pd.read_csv('/content/drive/MyDrive/external.csv', parse_dates=True, sep=\";\")\n",
        "df['date'] = pd.to_datetime(df['date'])\n",
        "\n",
        "df1 = df[['date', 'PriceUSD']]\n",
        "df1 = df1.set_index('date')\n",
        "\n",
        "def create_features(df1):\n",
        "    \"\"\"\n",
        "    Create time series features based on time series index.\n",
        "    \"\"\"\n",
        "    df1 = df1.copy()\n",
        "    df1['dayofweek'] = df1.index.dayofweek\n",
        "    df1['quarter'] = df1.index.quarter\n",
        "    df1['month'] = df1.index.month\n",
        "    df1['year'] = df1.index.year\n",
        "    df1['dayofyear'] = df1.index.dayofyear\n",
        "    df1['dayofmonth'] = df1.index.day\n",
        "    df1['weekofyear'] = df1.index.isocalendar().week\n",
        "    return df1\n",
        "\n",
        "df1 = create_features(df1)"
      ]
    },
    {
      "cell_type": "code",
      "execution_count": null,
      "metadata": {
        "id": "YOZS8ssAhWgl"
      },
      "outputs": [],
      "source": [
        "FEATURES = ['year', 'dayofweek', 'dayofmonth']\n",
        "TARGET = ['PriceUSD']\n",
        "\n",
        "train = df1[:int(len(df1)*0.70)]\n",
        "test = df1[int(len(df1)*0.70):]\n",
        "\n",
        "X_train = train[FEATURES]\n",
        "y_train = train[TARGET]\n",
        "\n",
        "X_test = test[FEATURES]\n",
        "y_test = test[TARGET]"
      ]
    },
    {
      "cell_type": "code",
      "execution_count": null,
      "metadata": {
        "id": "3KWIWTjqhaSV"
      },
      "outputs": [],
      "source": [
        "# Entraînement et prédiction avec KNN\n",
        "knn = KNeighborsRegressor(n_neighbors=2)\n",
        "knn.fit(X_train, y_train)\n",
        "y_pred = knn.predict(X_test)"
      ]
    },
    {
      "cell_type": "code",
      "execution_count": null,
      "metadata": {
        "id": "Dm_NEqLkhei0"
      },
      "outputs": [],
      "source": [
        "# Calcul des métriques d'évaluation\n",
        "mse = mean_squared_error(y_test, y_pred)\n",
        "r2 = r2_score(y_test, y_pred)\n",
        "bias = np.mean(y_pred - y_test.values.reshape(-1, 1))\n",
        "\n",
        "print(f\"Biais : {bias:.2f}\")\n",
        "print(\"MSE: \", mse)\n",
        "print(f\"R²: {r2:.4f}\")"
      ]
    },
    {
      "cell_type": "code",
      "execution_count": null,
      "metadata": {
        "id": "XTZn9fLNhrxk"
      },
      "outputs": [],
      "source": [
        "# Tracer le graphique des scores R2 en fonction de K\n",
        "r2_scores = []\n",
        "for k in range(1, 21):\n",
        "    knn = KNeighborsRegressor(n_neighbors=k)\n",
        "    knn.fit(X_train, y_train)\n",
        "    y_pred = knn.predict(X_test)\n",
        "    r2 = r2_score(y_test, y_pred)\n",
        "    r2_scores.append(r2)\n",
        "plt.plot(range(1, 21), r2_scores)\n",
        "plt.xlabel('K')\n",
        "plt.ylabel('R-squareD')\n",
        "plt.title('R-squareD as a function of K')\n",
        "#plt.savefig('/content/drive/MyDrive/Kfactor.png')\n",
        "plt.show()"
      ]
    },
    {
      "cell_type": "code",
      "execution_count": null,
      "metadata": {
        "id": "xn7roLjvhv3p"
      },
      "outputs": [],
      "source": [
        "dfplot=df[['date', 'PriceUSD']]\n",
        "dfplot = dfplot.set_index('date')\n",
        "dfplot.index = pd.to_datetime(dfplot.index)\n",
        "train = dfplot[:int(len(df1)*0.70)]\n",
        "test = dfplot[int(len(df1)*0.70):]\n",
        "print(len(df1))\n",
        "print(len(test))\n",
        "print(len(train))\n",
        "fig, ax = plt.subplots(figsize=(15, 5))\n",
        "train.plot(ax=ax, label='Training Set', title='Data Train/Test Split')\n",
        "test.plot(ax=ax, label='Test Set')\n",
        "ax.axvline(df1.iloc[int(len(df1)*0.70),0], color='black', ls='--')\n",
        "ax.legend(['Training Set', 'Test Set'])\n",
        "plt.show()"
      ]
    },
    {
      "cell_type": "code",
      "execution_count": null,
      "metadata": {
        "id": "Ai0oN4UPh26X"
      },
      "outputs": [],
      "source": [
        "# Tracer le graphique des prédictions et des données réelles\n",
        "test = df[int(len(df1)*0.70):]\n",
        "dfplot = test[['date', 'PriceUSD']]\n",
        "dfplot['prediction'] = y_pred\n",
        "dfplot = dfplot.set_index('date')\n",
        "\n",
        "fig, ax = plt.subplots(figsize=(15, 5))\n",
        "dfplot.plot(ax=ax, title='Predictions/Real data')\n",
        "ax.legend(['Real data', 'Predictions'])\n",
        "#plt.savefig('/content/drive/MyDrive/KNNdate.png')\n",
        "dfplot.to_csv('/content/drive/MyDrive/KNN.csv')\n",
        "plt.show()"
      ]
    }
  ],
  "metadata": {
    "colab": {
      "provenance": [],
      "authorship_tag": "ABX9TyN9Y0FVU8q46v+zs9+k4ESE",
      "include_colab_link": true
    },
    "kernelspec": {
      "display_name": "Python 3",
      "name": "python3"
    },
    "language_info": {
      "name": "python"
    }
  },
  "nbformat": 4,
  "nbformat_minor": 0
}