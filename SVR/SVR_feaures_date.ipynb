{
  "cells": [
    {
      "cell_type": "markdown",
      "metadata": {
        "id": "view-in-github",
        "colab_type": "text"
      },
      "source": [
        "<a href=\"https://colab.research.google.com/github/HENICHE-Thilleli/Time-Series-Forecasting-Using-Machine-Learning/blob/main/SVR/SVR_feaures_date.ipynb\" target=\"_parent\"><img src=\"https://colab.research.google.com/assets/colab-badge.svg\" alt=\"Open In Colab\"/></a>"
      ]
    },
    {
      "cell_type": "code",
      "execution_count": null,
      "metadata": {
        "id": "OoJwteZw1mub"
      },
      "outputs": [],
      "source": [
        "import pandas as pd\n",
        "import numpy as np\n",
        "import matplotlib.pyplot as plt\n",
        "from sklearn.model_selection import train_test_split\n",
        "from sklearn.metrics import mean_squared_error, mean_absolute_error, r2_score\n",
        "from sklearn.svm import SVR"
      ]
    },
    {
      "cell_type": "code",
      "execution_count": null,
      "metadata": {
        "id": "urV3WVV91vD1"
      },
      "outputs": [],
      "source": [
        "from google.colab import drive\n",
        "drive.mount('/content/drive')"
      ]
    },
    {
      "cell_type": "code",
      "execution_count": null,
      "metadata": {
        "id": "RSb8Ydhr1-sC"
      },
      "outputs": [],
      "source": [
        "df = pd.read_csv('/content/drive/MyDrive/external.csv', parse_dates=True, sep=\";\")\n",
        "df['date'] = pd.to_datetime(df['date']) # Convertir la colonne 'date' en objets datetime\n",
        "df1 = df[['date', 'PriceUSD']]"
      ]
    },
    {
      "cell_type": "code",
      "execution_count": null,
      "metadata": {
        "id": "YMy4IAg12GCJ"
      },
      "outputs": [],
      "source": [
        "df1 = df[['date', 'PriceUSD']]\n",
        "df1 = df1.set_index('date')\n",
        "\n",
        "def create_features(df1):\n",
        "    \"\"\"\n",
        "    Create time series features based on time series index.\n",
        "    \"\"\"\n",
        "    df1 = df1.copy()\n",
        "    df1['dayofweek'] = df1.index.dayofweek\n",
        "    df1['quarter'] = df1.index.quarter\n",
        "    df1['month'] = df1.index.month\n",
        "    df1['year'] = df1.index.year\n",
        "    df1['dayofyear'] = df1.index.dayofyear\n",
        "    df1['dayofmonth'] = df1.index.day\n",
        "    df1['weekofyear'] = df1.index.isocalendar().week\n",
        "    return df1\n",
        "\n",
        "df1 = create_features(df1)"
      ]
    },
    {
      "cell_type": "code",
      "execution_count": null,
      "metadata": {
        "id": "4FSpC3Ry2JS-"
      },
      "outputs": [],
      "source": [
        "FEATURES = ['year', 'quarter', 'dayofmonth', 'weekofyear']\n",
        "TARGET = ['PriceUSD']\n",
        "\n",
        "train = df1[:int(len(df1)*0.7)]\n",
        "test = df1[int(len(df1)*0.7):]\n",
        "\n",
        "X_train = train[FEATURES]\n",
        "y_train = train[TARGET]\n",
        "\n",
        "X_test = test[FEATURES]\n",
        "y_test = test[TARGET]"
      ]
    },
    {
      "cell_type": "code",
      "execution_count": null,
      "metadata": {
        "id": "cVdKb_Uf2Ki-"
      },
      "outputs": [],
      "source": [
        "\n",
        "# Entraînement et prédiction avec SVR\n",
        "svr = SVR(C=10000, kernel='rbf' ,epsilon=1 ,gamma=0.01)\n",
        "svr.fit(X_train, y_train)\n",
        "y_pred = svr.predict(X_test)"
      ]
    },
    {
      "cell_type": "code",
      "execution_count": null,
      "metadata": {
        "id": "jnbIIl0C2Woc"
      },
      "outputs": [],
      "source": [
        "# Calcul des métriques d'évaluation\n",
        "mse = mean_squared_error(y_test, y_pred)\n",
        "r2 = r2_score(y_test, y_pred)\n",
        "bias = np.mean(y_pred - y_test.values.reshape(-1, 1))\n",
        "\n",
        "print(f\"Biais : {bias:.2f}\")\n",
        "print(\"MSE: \", mse)\n",
        "print(f\"R²: {r2:.4f}\")"
      ]
    },
    {
      "cell_type": "code",
      "execution_count": null,
      "metadata": {
        "id": "CBVmAeP32inW"
      },
      "outputs": [],
      "source": [
        "dfplot=df[['date', 'PriceUSD']]\n",
        "dfplot = dfplot.set_index('date')\n",
        "dfplot.index = pd.to_datetime(dfplot.index)\n",
        "train = dfplot[:int(len(df1)*0.7)]\n",
        "test = dfplot[int(len(df1)*0.7):]\n",
        "print(len(df1))\n",
        "print(len(test))\n",
        "print(len(train))\n",
        "fig, ax = plt.subplots(figsize=(15, 5))\n",
        "train.plot(ax=ax, label='Training Set', title='Data Train/Test Split')\n",
        "test.plot(ax=ax, label='Test Set')\n",
        "ax.axvline(df1.iloc[int(len(df1)*0.7),0], color='black', ls='--')\n",
        "ax.legend(['Training Set', 'Test Set'])\n",
        "plt.show()"
      ]
    },
    {
      "cell_type": "code",
      "execution_count": null,
      "metadata": {
        "id": "0BwiuCJ62mg0"
      },
      "outputs": [],
      "source": [
        "# Tracer le graphique des prédictions et des données réelles\n",
        "test = df[int(len(df1)*0.7):]\n",
        "dfplot = test[['date', 'PriceUSD']]\n",
        "dfplot['prediction'] = y_pred\n",
        "dfplot = dfplot.set_index('date')\n",
        "\n",
        "fig, ax = plt.subplots(figsize=(15, 5))\n",
        "dfplot.plot(ax=ax, title='Predictions/Real data')\n",
        "ax.legend(['Real data', 'Predictions'])\n",
        "#plt.savefig('/content/drive/MyDrive/svrdate.png')\n",
        "dfplot.to_csv('/content/drive/MyDrive/SVR.csv')\n",
        "plt.show()"
      ]
    }
  ],
  "metadata": {
    "colab": {
      "provenance": [],
      "authorship_tag": "ABX9TyNpJISoVRfcfm6YLA0+03c/",
      "include_colab_link": true
    },
    "kernelspec": {
      "display_name": "Python 3",
      "name": "python3"
    },
    "language_info": {
      "name": "python"
    }
  },
  "nbformat": 4,
  "nbformat_minor": 0
}