{
  "nbformat": 4,
  "nbformat_minor": 0,
  "metadata": {
    "colab": {
      "provenance": [],
      "authorship_tag": "ABX9TyN+z/msOENnaDi26syVGATU",
      "include_colab_link": true
    },
    "kernelspec": {
      "name": "python3",
      "display_name": "Python 3"
    },
    "language_info": {
      "name": "python"
    }
  },
  "cells": [
    {
      "cell_type": "markdown",
      "metadata": {
        "id": "view-in-github",
        "colab_type": "text"
      },
      "source": [
        "<a href=\"https://colab.research.google.com/github/HENICHE-Thilleli/Time-Series-Forecasting-Using-Machine-Learning/blob/main/Random%20forests/Random_date_features.ipynb\" target=\"_parent\"><img src=\"https://colab.research.google.com/assets/colab-badge.svg\" alt=\"Open In Colab\"/></a>"
      ]
    },
    {
      "cell_type": "code",
      "execution_count": null,
      "metadata": {
        "id": "b1xA9fsYeNSq"
      },
      "outputs": [],
      "source": [
        "import pandas as pd\n",
        "import numpy as np\n",
        "import matplotlib.pyplot as plt\n",
        "from sklearn.ensemble import RandomForestRegressor\n",
        "from sklearn.preprocessing import StandardScaler\n",
        "from sklearn.model_selection import train_test_split\n",
        "from sklearn.metrics import mean_squared_error\n",
        "from sklearn.metrics import r2_score"
      ]
    },
    {
      "cell_type": "code",
      "source": [
        "from google.colab import drive\n",
        "drive.mount('/content/drive')"
      ],
      "metadata": {
        "id": "azQ4R0Hiel4U"
      },
      "execution_count": null,
      "outputs": []
    },
    {
      "cell_type": "code",
      "source": [
        "# Charger les données\n",
        "df = pd.read_csv('/content/drive/MyDrive/external.csv', parse_dates=True, sep=\";\")\n",
        "df['date'] = pd.to_datetime(df['date'])\n",
        "df1 = df[['date', 'PriceUSD']]\n",
        "df1 = df1.set_index('date')"
      ],
      "metadata": {
        "id": "HSxqUcNpfBmy"
      },
      "execution_count": null,
      "outputs": []
    },
    {
      "cell_type": "code",
      "source": [
        "\n",
        "\n",
        "def create_features(df1):\n",
        "    \"\"\"\n",
        "    Create time series features based on time series index.\n",
        "    \"\"\"\n",
        "    df1 = df1.copy()\n",
        "    df1['dayofweek'] = df1.index.dayofweek\n",
        "    df1['quarter'] = df1.index.quarter\n",
        "    df1['month'] = df1.index.month\n",
        "    df1['year'] = df1.index.year\n",
        "    df1['dayofyear'] = df1.index.dayofyear\n",
        "    df1['dayofmonth'] = df1.index.day\n",
        "    df1['weekofyear'] = df1.index.isocalendar().week\n",
        "    return df1\n",
        "\n",
        "df1 = create_features(df1)"
      ],
      "metadata": {
        "id": "jHp36CkHfLQe"
      },
      "execution_count": null,
      "outputs": []
    },
    {
      "cell_type": "code",
      "source": [
        "FEATURES = ['dayofweek', 'year', 'dayofmonth']##month##dayofyearweekofyear\n",
        "TARGET = ['PriceUSD']\n",
        "\n",
        "train = df1[:int(len(df1)*0.70)]\n",
        "test = df1[int(len(df1)*0.70):]\n",
        "\n",
        "X_train = train[FEATURES]\n",
        "y_train = train[TARGET]\n",
        "\n",
        "X_test = test[FEATURES]\n",
        "y_test = test[TARGET]"
      ],
      "metadata": {
        "id": "hpcD4FjwfOuS"
      },
      "execution_count": null,
      "outputs": []
    },
    {
      "cell_type": "code",
      "source": [
        "rf = RandomForestRegressor( n_estimators=5,\n",
        "min_samples_split =2,\n",
        "min_samples_leaf =1\n",
        ")\n",
        "rf.fit(X_train, y_train)\n",
        "y_pred = rf.predict(X_test)\n"
      ],
      "metadata": {
        "id": "bCksQhetfTEr"
      },
      "execution_count": null,
      "outputs": []
    },
    {
      "cell_type": "code",
      "source": [
        "# Calcul des métriques d'évaluation\n",
        "mse = mean_squared_error(y_test, y_pred)\n",
        "r2 = r2_score(y_test, y_pred)\n",
        "bias = np.mean(y_pred - y_test.values.reshape(-1, 1))\n",
        "\n",
        "print(f\"Biais : {bias:.2f}\")\n",
        "print(\"MSE: \", mse)\n",
        "print(f\"R²: {r2:.4f}\")"
      ],
      "metadata": {
        "id": "47hjfvL7fXHj"
      },
      "execution_count": null,
      "outputs": []
    },
    {
      "cell_type": "code",
      "source": [
        "# Tracer le graphique des scores R2 en fonction de nestimator\n",
        "r2_scores = []\n",
        "for n_estimators in range(1, 30):\n",
        "    rf = RandomForestRegressor()\n",
        "    rf.fit(X_train, y_train)\n",
        "\n",
        "    y_pred = rf.predict(X_test)\n",
        "    r2 = r2_score(y_test, y_pred)\n",
        "    r2_scores.append(r2)\n",
        "plt.plot(range(1, 30), r2_scores)\n",
        "plt.xlabel('n estimator')\n",
        "plt.ylabel('Score R2')\n",
        "plt.title('Score R2 en fonction de n estimatore')\n",
        "plt.show()"
      ],
      "metadata": {
        "id": "RiSnUwZafgEV"
      },
      "execution_count": null,
      "outputs": []
    },
    {
      "cell_type": "code",
      "source": [
        "dfplot=df[['date', 'PriceUSD']]\n",
        "dfplot = dfplot.set_index('date')\n",
        "dfplot.index = pd.to_datetime(dfplot.index)\n",
        "train = dfplot[:int(len(df1)*0.70)]\n",
        "test = dfplot[int(len(df1)*0.70):]\n",
        "print(len(df1))\n",
        "print(len(test))\n",
        "print(len(train))\n",
        "fig, ax = plt.subplots(figsize=(15, 5))\n",
        "train.plot(ax=ax, label='Training Set', title='Data Train/Test Split')\n",
        "test.plot(ax=ax, label='Test Set')\n",
        "ax.axvline(df1.iloc[int(len(df1)*0.70),0], color='black', ls='--')\n",
        "ax.legend(['Training Set', 'Test Set'])\n",
        "plt.show()"
      ],
      "metadata": {
        "id": "K81_Ig7lfkmd"
      },
      "execution_count": null,
      "outputs": []
    },
    {
      "cell_type": "code",
      "source": [
        "# Tracer le graphique des prédictions et des données réelles\n",
        "test = df[int(len(df1)*0.70):]\n",
        "dfplot = test[['date', 'PriceUSD']]\n",
        "dfplot['prediction'] = y_pred\n",
        "dfplot = dfplot.set_index('date')\n",
        "\n",
        "fig, ax = plt.subplots(figsize=(15, 5))\n",
        "dfplot.plot(ax=ax, title='Predictions/Real data')\n",
        "ax.legend(['Real data', 'Predictions'])\n",
        "#plt.savefig('/content/drive/MyDrive/Rabdomdate.png')\n",
        "dfplot.to_csv('/content/drive/MyDrive/randomforests.csv')\n",
        "plt.show()"
      ],
      "metadata": {
        "id": "2M3jOmdkfofv"
      },
      "execution_count": null,
      "outputs": []
    }
  ]
}